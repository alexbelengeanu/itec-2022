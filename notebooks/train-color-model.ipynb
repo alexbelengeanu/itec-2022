{
 "cells": [
  {
   "cell_type": "code",
   "execution_count": 1,
   "id": "8c978921-255e-4e47-9a96-70b82b4dfbef",
   "metadata": {},
   "outputs": [
    {
     "name": "stderr",
     "output_type": "stream",
     "text": [
      "D:\\Lucru\\github-folder\\itec-2022\\venv\\lib\\site-packages\\tqdm\\auto.py:22: TqdmWarning: IProgress not found. Please update jupyter and ipywidgets. See https://ipywidgets.readthedocs.io/en/stable/user_install.html\n",
      "  from .autonotebook import tqdm as notebook_tqdm\n"
     ]
    }
   ],
   "source": [
    "# ML\n",
    "from sklearn.model_selection import train_test_split\n",
    "from sklearn.metrics import accuracy_score\n",
    "from sklearn.preprocessing import OneHotEncoder\n",
    "\n",
    "import cv2\n",
    "import torch\n",
    "import torch.nn as nn \n",
    "import torch.nn.functional as F\n",
    "import torchvision\n",
    "from torchsummary import summary\n",
    "from torch.utils.data import Dataset, DataLoader\n",
    "from torchvision import transforms\n",
    "from torch.utils.data import random_split\n",
    "from PIL import Image\n",
    "\n",
    "# Plots\n",
    "import matplotlib.pyplot as plt\n",
    "\n",
    "# Utils\n",
    "import numpy as np\n",
    "from collections import OrderedDict\n",
    "from tqdm import tqdm, trange\n",
    "import os"
   ]
  },
  {
   "cell_type": "code",
   "execution_count": 2,
   "id": "b2764e5f-23d3-4198-bb81-12577226c33e",
   "metadata": {},
   "outputs": [],
   "source": [
    "# The ImageFolder dataset\n",
    "transform = transforms.Compose([transforms.ToTensor()])\n",
    "dataset = torchvision.datasets.ImageFolder(r'D:/Lucru/github-folder/itec-2022/dataset/dataset-color', transform=transform)"
   ]
  },
  {
   "cell_type": "code",
   "execution_count": 3,
   "id": "dbb88f3c-ed02-4a52-a886-89a0b1a520e7",
   "metadata": {},
   "outputs": [
    {
     "data": {
      "text/plain": [
       "['blue', 'green', 'red']"
      ]
     },
     "execution_count": 3,
     "metadata": {},
     "output_type": "execute_result"
    }
   ],
   "source": [
    "dataset.classes"
   ]
  },
  {
   "cell_type": "code",
   "execution_count": 4,
   "id": "1f779453-2fcc-4607-aaa0-be6fa4a5673a",
   "metadata": {},
   "outputs": [],
   "source": [
    "train_len = int(.75 * len(dataset))\n",
    "test_len = len(dataset) - train_len\n",
    "train_dataset, test_dataset = random_split(dataset, [train_len, test_len])"
   ]
  },
  {
   "cell_type": "code",
   "execution_count": 5,
   "id": "92226881-c47b-4d04-a6e5-73b3472f7c03",
   "metadata": {},
   "outputs": [],
   "source": [
    "resnet18 = torchvision.models.resnet18(pretrained = True)"
   ]
  },
  {
   "cell_type": "code",
   "execution_count": 6,
   "id": "ffde209c-a552-4f7b-b10f-2c9ec6bb88fd",
   "metadata": {},
   "outputs": [],
   "source": [
    "fc = nn.Sequential(OrderedDict([\n",
    "    ('fc1', nn.Linear(512,128)),\n",
    "    ('dropout', nn.Dropout(p = .5)),\n",
    "    ('relu', nn.ReLU()),\n",
    "    ('fc2', nn.Linear(128,3)),\n",
    "    ('output', nn.LogSoftmax(dim=1))\n",
    "]))\n",
    "resnet18.fc = fc"
   ]
  },
  {
   "cell_type": "code",
   "execution_count": 7,
   "id": "228aa0a6-2d5d-4a64-817b-f3e5430673a9",
   "metadata": {},
   "outputs": [],
   "source": [
    "# Unfreeze last layer\n",
    "for param in resnet18.fc.parameters():\n",
    "    param.requires_grad = True"
   ]
  },
  {
   "cell_type": "code",
   "execution_count": 8,
   "id": "9aa85d82-e597-432a-b469-f6b21d6f998d",
   "metadata": {},
   "outputs": [],
   "source": [
    "device = torch.device(\"cuda\" if torch.cuda.is_available() else \"cpu\")\n",
    "resnet18 = resnet18.to(device)"
   ]
  },
  {
   "cell_type": "code",
   "execution_count": 9,
   "id": "3f9897df-e7f9-4085-8df6-b2426bffa319",
   "metadata": {},
   "outputs": [],
   "source": [
    "learning_rate = .005\n",
    "optimizer = torch.optim.SGD(resnet18.parameters(), lr=learning_rate, momentum=0.9)\n",
    "loss_function = nn.CrossEntropyLoss()\n",
    "\n",
    "batch_size = 32\n",
    "trainloader = DataLoader(train_dataset, batch_size=batch_size, shuffle=True)\n",
    "testloader = DataLoader(test_dataset, batch_size=batch_size)"
   ]
  },
  {
   "cell_type": "code",
   "execution_count": 10,
   "id": "2f91e84d-caaa-43c2-bc5c-4fd22bb9bcaa",
   "metadata": {},
   "outputs": [
    {
     "name": "stderr",
     "output_type": "stream",
     "text": [
      "(Loss, Acc) -- Train : (0.0, 1.0), Test : (0.0, 1.0): 100%|████████████████████████████| 15/15 [01:31<00:00,  6.08s/it]\n"
     ]
    }
   ],
   "source": [
    "epochs = 15\n",
    "accs = []\n",
    "losses = []\n",
    "val_losses = []\n",
    "val_accs = []\n",
    "for epoch in (t:= trange(epochs)):\n",
    "    resnet18.train() # change resnet here\n",
    "    # Get batches\n",
    "    loss = 0.\n",
    "    acc = 0.\n",
    "    num_batches = 0\n",
    "    for X_batch, y_batch in trainloader:\n",
    "        num_batches+=1\n",
    "        X_batch = X_batch.cuda()\n",
    "        y_batch = y_batch.cuda()\n",
    "        y_pred = resnet18(X_batch)\n",
    "        \n",
    "        loss_batch = loss_function(y_pred, y_batch)    \n",
    "        loss += loss_batch.item()\n",
    "        acc += accuracy_score(torch.argmax(y_pred.cpu(), axis = 1), y_batch.cpu())\n",
    "        \n",
    "        optimizer.zero_grad() # don't forget this\n",
    "        loss_batch.backward()\n",
    "        optimizer.step()\n",
    "    \n",
    "    acc /= num_batches\n",
    "    loss /= num_batches\n",
    "    losses.append(loss)\n",
    "    accs.append(acc)\n",
    "\n",
    "    # Validation set\n",
    "    resnet18.eval()\n",
    "    num_batches = 0\n",
    "    val_acc = 0.\n",
    "    val_loss = 0.\n",
    "    for X_batch, y_batch in testloader:\n",
    "        num_batches+=1\n",
    "        X_batch = X_batch.cuda()\n",
    "        y_batch = y_batch.cuda()\n",
    "        \n",
    "        y_pred = resnet18(X_batch)\n",
    "        val_acc += accuracy_score(torch.argmax(y_pred.cpu(), axis = 1), y_batch.cpu())\n",
    "        loss_batch = loss_function(y_pred, y_batch)    \n",
    "        val_loss += loss_batch.item()\n",
    "        \n",
    "    val_acc /= num_batches\n",
    "    val_loss /= num_batches\n",
    "    val_losses.append(val_loss)\n",
    "    val_accs.append(val_acc)\n",
    "    \n",
    "    t.set_description(f\"(Loss, Acc) -- Train : {round(loss, 2), round(acc, 2)}, Test : {round(val_loss, 2), round(val_acc, 2)}\")"
   ]
  },
  {
   "cell_type": "code",
   "execution_count": 11,
   "id": "d9addd8e-e48a-4f48-978c-ec08fcd14bbf",
   "metadata": {},
   "outputs": [],
   "source": [
    "del X_batch, y_batch\n",
    "torch.cuda.empty_cache()"
   ]
  },
  {
   "cell_type": "code",
   "execution_count": 12,
   "id": "c128b332-a4e2-47ac-8f7d-3ddf8ef87cac",
   "metadata": {},
   "outputs": [
    {
     "data": {
      "text/plain": [
       "[<matplotlib.lines.Line2D at 0x1e0cc9c4220>]"
      ]
     },
     "execution_count": 12,
     "metadata": {},
     "output_type": "execute_result"
    },
    {
     "data": {
      "image/png": "[encoded data removed]",
      "text/plain": [
       "<Figure size 504x360 with 1 Axes>"
      ]
     },
     "metadata": {
      "needs_background": "light"
     },
     "output_type": "display_data"
    }
   ],
   "source": [
    "plt.figure(figsize = (7, 5))\n",
    "plt.legend(['Loss','Accuracy'])\n",
    "plt.plot(losses)\n",
    "plt.plot(accs)"
   ]
  },
  {
   "cell_type": "code",
   "execution_count": 13,
   "id": "840102e0-8bc4-4422-9e4c-18ea65a85a0e",
   "metadata": {},
   "outputs": [],
   "source": [
    "torch.save(resnet18.state_dict(), r\"D:/Lucru/github-folder/itec-2022/resnet18_color.pth\")"
   ]
  },
  {
   "cell_type": "code",
   "execution_count": null,
   "id": "5de11714-af0c-42a6-a3ae-b924fac1e128",
   "metadata": {},
   "outputs": [],
   "source": []
  }
 ],
 "metadata": {
  "kernelspec": {
   "display_name": "Python 3 (ipykernel)",
   "language": "python",
   "name": "python3"
  },
  "language_info": {
   "codemirror_mode": {
    "name": "ipython",
    "version": 3
   },
   "file_extension": ".py",
   "mimetype": "text/x-python",
   "name": "python",
   "nbconvert_exporter": "python",
   "pygments_lexer": "ipython3",
   "version": "3.8.0"
  }
 },
 "nbformat": 4,
 "nbformat_minor": 5
}
