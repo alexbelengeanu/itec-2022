{
 "cells": [
  {
   "cell_type": "code",
   "execution_count": 1,
   "id": "9051493a-f661-4339-9ac7-a7b6097639c6",
   "metadata": {},
   "outputs": [
    {
     "name": "stderr",
     "output_type": "stream",
     "text": [
      "D:\\Lucru\\github-folder\\itec-2022\\venv\\lib\\site-packages\\tqdm\\auto.py:22: TqdmWarning: IProgress not found. Please update jupyter and ipywidgets. See https://ipywidgets.readthedocs.io/en/stable/user_install.html\n",
      "  from .autonotebook import tqdm as notebook_tqdm\n"
     ]
    }
   ],
   "source": [
    "# ML\n",
    "from sklearn.model_selection import train_test_split\n",
    "from sklearn.metrics import accuracy_score\n",
    "from sklearn.preprocessing import OneHotEncoder\n",
    "\n",
    "import cv2\n",
    "import torch\n",
    "import torch.nn as nn \n",
    "import torch.nn.functional as F\n",
    "import torchvision\n",
    "from torchsummary import summary\n",
    "from torch.utils.data import Dataset, DataLoader\n",
    "from torchvision import transforms\n",
    "from torch.utils.data import random_split\n",
    "from PIL import Image\n",
    "\n",
    "# Plots\n",
    "import matplotlib.pyplot as plt\n",
    "\n",
    "# Utils\n",
    "import numpy as np\n",
    "from collections import OrderedDict\n",
    "from tqdm import tqdm, trange\n",
    "import os"
   ]
  },
  {
   "cell_type": "code",
   "execution_count": 2,
   "id": "092ad02d-b3c4-427d-b8b7-717f7628a701",
   "metadata": {},
   "outputs": [],
   "source": [
    "# The ImageFolder dataset\n",
    "transform = transforms.Compose([transforms.ToTensor()])\n",
    "dataset = torchvision.datasets.ImageFolder(r'D:/Lucru/github-folder/itec-2022/dataset/dataset-shape', transform=transform)"
   ]
  },
  {
   "cell_type": "code",
   "execution_count": 3,
   "id": "d69119f1-3845-4314-8c94-96e4aad78fc9",
   "metadata": {},
   "outputs": [
    {
     "data": {
      "text/plain": [
       "['ellipse', 'rectangle', 'triangle']"
      ]
     },
     "execution_count": 3,
     "metadata": {},
     "output_type": "execute_result"
    }
   ],
   "source": [
    "dataset.classes"
   ]
  },
  {
   "cell_type": "code",
   "execution_count": 4,
   "id": "b8798f20-d2cd-42dc-b29d-01fc1895f9c3",
   "metadata": {},
   "outputs": [],
   "source": [
    "train_len = int(.75 * len(dataset))\n",
    "test_len = len(dataset) - train_len\n",
    "train_dataset, test_dataset = random_split(dataset, [train_len, test_len])"
   ]
  },
  {
   "cell_type": "code",
   "execution_count": 5,
   "id": "f2465f8c-c059-43b4-b171-6591146ca603",
   "metadata": {},
   "outputs": [],
   "source": [
    "resnet18 = torchvision.models.resnet18(pretrained = True)"
   ]
  },
  {
   "cell_type": "code",
   "execution_count": 7,
   "id": "730a41c4-3e00-4909-ab52-5ee5296a6138",
   "metadata": {},
   "outputs": [],
   "source": [
    "fc = nn.Sequential(OrderedDict([\n",
    "    ('fc1', nn.Linear(512,128)),\n",
    "    ('dropout', nn.Dropout(p = .5)),\n",
    "    ('relu', nn.ReLU()),\n",
    "    ('fc2', nn.Linear(128,3)),\n",
    "    ('output', nn.LogSoftmax(dim=1))\n",
    "]))\n",
    "resnet18.fc = fc"
   ]
  },
  {
   "cell_type": "code",
   "execution_count": 8,
   "id": "717c8267-4744-42a8-8e42-2aff058b95ed",
   "metadata": {},
   "outputs": [],
   "source": [
    "# Unfreeze last layer\n",
    "for param in resnet18.fc.parameters():\n",
    "    param.requires_grad = True"
   ]
  },
  {
   "cell_type": "code",
   "execution_count": 9,
   "id": "9e7baa63-497f-4e9d-9724-66f88f04df0d",
   "metadata": {},
   "outputs": [],
   "source": [
    "device = torch.device(\"cuda\" if torch.cuda.is_available() else \"cpu\")\n",
    "resnet18 = resnet18.to(device)"
   ]
  },
  {
   "cell_type": "code",
   "execution_count": 10,
   "id": "9e3b3517-1b95-44fb-a7ec-be34d755cc6b",
   "metadata": {},
   "outputs": [],
   "source": [
    "learning_rate = .0001\n",
    "optimizer = torch.optim.SGD(resnet18.parameters(), lr=learning_rate, momentum=0.9)\n",
    "loss_function = nn.CrossEntropyLoss()\n",
    "\n",
    "batch_size = 32\n",
    "trainloader = DataLoader(train_dataset, batch_size=batch_size, shuffle=True)\n",
    "testloader = DataLoader(test_dataset, batch_size=batch_size)"
   ]
  },
  {
   "cell_type": "code",
   "execution_count": 11,
   "id": "9e12607e-fc15-4e74-8b01-06f4e8acd078",
   "metadata": {},
   "outputs": [
    {
     "name": "stderr",
     "output_type": "stream",
     "text": [
      "(Loss, Acc) -- Train : (0.06, 1.0), Test : (0.02, 1.0): 100%|██████████████████████████| 10/10 [01:00<00:00,  6.07s/it]\n"
     ]
    }
   ],
   "source": [
    "epochs = 10\n",
    "accs = []\n",
    "losses = []\n",
    "val_losses = []\n",
    "val_accs = []\n",
    "for epoch in (t:= trange(epochs)):\n",
    "    resnet18.train() # change resnet here\n",
    "    # Get batches\n",
    "    loss = 0.\n",
    "    acc = 0.\n",
    "    num_batches = 0\n",
    "    for X_batch, y_batch in trainloader:\n",
    "        num_batches+=1\n",
    "        X_batch = X_batch.cuda()\n",
    "        y_batch = y_batch.cuda()\n",
    "        y_pred = resnet18(X_batch)\n",
    "        \n",
    "        loss_batch = loss_function(y_pred, y_batch)    \n",
    "        loss += loss_batch.item()\n",
    "        acc += accuracy_score(torch.argmax(y_pred.cpu(), axis = 1), y_batch.cpu())\n",
    "        \n",
    "        optimizer.zero_grad() # don't forget this\n",
    "        loss_batch.backward()\n",
    "        optimizer.step()\n",
    "    \n",
    "    acc /= num_batches\n",
    "    loss /= num_batches\n",
    "    losses.append(loss)\n",
    "    accs.append(acc)\n",
    "\n",
    "    # Validation set\n",
    "    resnet18.eval()\n",
    "    num_batches = 0\n",
    "    val_acc = 0.\n",
    "    val_loss = 0.\n",
    "    for X_batch, y_batch in testloader:\n",
    "        num_batches+=1\n",
    "        X_batch = X_batch.cuda()\n",
    "        y_batch = y_batch.cuda()\n",
    "        \n",
    "        y_pred = resnet18(X_batch)\n",
    "        val_acc += accuracy_score(torch.argmax(y_pred.cpu(), axis = 1), y_batch.cpu())\n",
    "        loss_batch = loss_function(y_pred, y_batch)    \n",
    "        val_loss += loss_batch.item()\n",
    "        \n",
    "    val_acc /= num_batches\n",
    "    val_loss /= num_batches\n",
    "    val_losses.append(val_loss)\n",
    "    val_accs.append(val_acc)\n",
    "    \n",
    "    t.set_description(f\"(Loss, Acc) -- Train : {round(loss, 2), round(acc, 2)}, Test : {round(val_loss, 2), round(val_acc, 2)}\")"
   ]
  },
  {
   "cell_type": "code",
   "execution_count": 12,
   "id": "b0d8bb73-2823-4a21-9215-9d81a8bb27d7",
   "metadata": {},
   "outputs": [],
   "source": [
    "del X_batch, y_batch\n",
    "torch.cuda.empty_cache()"
   ]
  },
  {
   "cell_type": "code",
   "execution_count": 14,
   "id": "40172b6e-265c-424f-9f3d-fa2963dceb00",
   "metadata": {},
   "outputs": [
    {
     "data": {
      "text/plain": [
       "[<matplotlib.lines.Line2D at 0x216b8e57a90>]"
      ]
     },
     "execution_count": 14,
     "metadata": {},
     "output_type": "execute_result"
    },
    {
     "data": {
      "image/png": "[encoded data removed]",
      "text/plain": [
       "<Figure size 504x360 with 1 Axes>"
      ]
     },
     "metadata": {
      "needs_background": "light"
     },
     "output_type": "display_data"
    }
   ],
   "source": [
    "plt.figure(figsize = (7, 5))\n",
    "plt.legend(['Loss','Accuracy'])\n",
    "plt.plot(losses)\n",
    "plt.plot(accs)"
   ]
  },
  {
   "cell_type": "code",
   "execution_count": 16,
   "id": "ce3ffbbc-6d49-40c8-b198-9f2fed112143",
   "metadata": {},
   "outputs": [],
   "source": [
    "torch.save(resnet18.state_dict(), r\"D:/Lucru/github-folder/itec-2022/resnet18_shape.pth\")"
   ]
  },
  {
   "cell_type": "code",
   "execution_count": null,
   "id": "859eb0e6-ca61-4e1b-a92c-a127b3cfde0e",
   "metadata": {},
   "outputs": [],
   "source": []
  }
 ],
 "metadata": {
  "kernelspec": {
   "display_name": "Python 3 (ipykernel)",
   "language": "python",
   "name": "python3"
  },
  "language_info": {
   "codemirror_mode": {
    "name": "ipython",
    "version": 3
   },
   "file_extension": ".py",
   "mimetype": "text/x-python",
   "name": "python",
   "nbconvert_exporter": "python",
   "pygments_lexer": "ipython3",
   "version": "3.8.0"
  }
 },
 "nbformat": 4,
 "nbformat_minor": 5
}
