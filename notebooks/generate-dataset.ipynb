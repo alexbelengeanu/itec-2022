{
 "cells": [
  {
   "cell_type": "code",
   "execution_count": 1,
   "id": "412679e5-526e-4760-a2c6-c34085ac0dd5",
   "metadata": {},
   "outputs": [],
   "source": [
    "import matplotlib.pyplot as plt\n",
    "from tqdm import tqdm\n",
    "from PIL import Image\n",
    "import numpy as np\n",
    "import pandas as pd\n",
    "import random\n",
    "import time\n",
    "import cv2\n",
    "import os"
   ]
  },
  {
   "cell_type": "code",
   "execution_count": 2,
   "id": "274feaa2-d46a-4d34-bcbb-a92c70f28f65",
   "metadata": {},
   "outputs": [],
   "source": [
    "def generate_blank():\n",
    "    return np.ones(shape=(96,96,3), dtype=np.int16)"
   ]
  },
  {
   "cell_type": "code",
   "execution_count": 39,
   "id": "577f663f-182a-4071-ba91-c8ce1ddaef17",
   "metadata": {},
   "outputs": [],
   "source": [
    "# constants\n",
    "blank = generate_blank()\n",
    "\n",
    "angle = 0\n",
    "startAngle = 0\n",
    "endAngle = 360\n",
    "\n",
    "red = (0, 0, 255)\n",
    "green = (0, 255, 0)\n",
    "blue = (255, 0, 0)\n",
    "\n",
    "DATASET_PATH = r\"D:\\Lucru\\github-folder\\itec-2022\\dataset\\\\\""
   ]
  },
  {
   "cell_type": "code",
   "execution_count": 25,
   "id": "9f9f0117-1ac1-4b97-81ca-d011d735d04e",
   "metadata": {},
   "outputs": [],
   "source": [
    "def draw_random_rectangle(image, color):\n",
    "    image_ = image.copy()\n",
    "    x_1 = x_2 = y_1 = y_2 = 0\n",
    "    while x_1 - x_2 < 25 or y_1 - y_2 < 25:\n",
    "        x_1 = random.randint(10, 86)\n",
    "        y_1 = random.randint(10, 86)\n",
    "        x_2 = random.randint(10, 86)\n",
    "        y_2 = random.randint(10, 86)\n",
    "    width = np.max(np.array([x_1, x_2])) - np.min(np.array([x_1, x_2]))\n",
    "    height = np.max(np.array([y_1, y_2])) - np.min(np.array([y_1, y_2]))\n",
    "    area = width * height\n",
    "    return cv2.rectangle(image_, pt1=(x_1,y_1), pt2=(x_2,y_2), color=color, thickness= -1), ((100 * area) / 9216) / 100"
   ]
  },
  {
   "cell_type": "code",
   "execution_count": 5,
   "id": "8bca718f-b403-4cf3-bd62-af54044e2681",
   "metadata": {},
   "outputs": [],
   "source": [
    "def generate_random_triangle_point():\n",
    "    first_interval = np.array([0.1, 0.4])\n",
    "    second_interval = np.array([0.56, 0.86])\n",
    "\n",
    "    total_length = np.ptp(first_interval)+np.ptp(second_interval)\n",
    "    n = 1\n",
    "    numbers = np.random.random(n)*total_length\n",
    "    numbers += first_interval.min()\n",
    "    numbers[numbers > first_interval.max()] += second_interval.min()-first_interval.max()\n",
    "    numbers = np.floor(numbers * 100).astype(int)\n",
    "    return numbers[0]"
   ]
  },
  {
   "cell_type": "code",
   "execution_count": 26,
   "id": "7415953e-fa29-4a1e-9f39-cf1c7a0a0a57",
   "metadata": {},
   "outputs": [],
   "source": [
    "def draw_random_triangle(image, color):\n",
    "    image_ = image.copy()\n",
    "    area = 0\n",
    "    while area < 800 :\n",
    "        x_1 = x_2 = x_3 = y_1 = y_2 = y_3 = 10\n",
    "        blank = generate_blank()\n",
    "        while x_1 - x_2 < 15:\n",
    "            x_1 = generate_random_triangle_point()\n",
    "            x_2 = generate_random_triangle_point()\n",
    "            while x_1 - x_3 < 15:\n",
    "                x_1 = generate_random_triangle_point()\n",
    "                x_3 = generate_random_triangle_point()\n",
    "                while x_2 - x_3 < 15:\n",
    "                    x_2 = generate_random_triangle_point()\n",
    "                    x_3 = generate_random_triangle_point()\n",
    "                    while y_1 - y_2 < 15:\n",
    "                        y_1 = generate_random_triangle_point()\n",
    "                        y_2 = generate_random_triangle_point()\n",
    "                        while y_1 - y_3 < 15:\n",
    "                            y_1 = generate_random_triangle_point()\n",
    "                            y_3 = generate_random_triangle_point()\n",
    "                            while y_2 - y_3 < 15:\n",
    "                                y_2 = generate_random_triangle_point()\n",
    "                                y_3 = generate_random_triangle_point()\n",
    "        A = (x_1, y_1)\n",
    "        B = (x_2, y_2)\n",
    "        C = (x_3, y_3)\n",
    "        point_list = np.array([A, B, C])\n",
    "        area = cv2.contourArea(point_list)\n",
    "    return cv2.drawContours(image_, [point_list], 0, color=color, thickness=-1), ((100 * area) / 9216) / 100"
   ]
  },
  {
   "cell_type": "code",
   "execution_count": 27,
   "id": "deda6506-49c7-45d4-b753-0f95f3f267e4",
   "metadata": {},
   "outputs": [],
   "source": [
    "def draw_random_ellipse(image, color):\n",
    "    image_ = image.copy()\n",
    "    x_1 = y_1 = 0\n",
    "    x_1 = random.randint(36, 59)\n",
    "    y_1 = random.randint(36, 59)\n",
    "    major_axis = random.randint(10, 36)\n",
    "    minor_axis = random.randint(10, 36)\n",
    "    return cv2.ellipse(image_, (x_1, y_1), (major_axis, minor_axis), angle, startAngle, endAngle, color=color, thickness=-1), ((100 * (3.142 * major_axis * minor_axis)) / 9216) / 100"
   ]
  },
  {
   "cell_type": "code",
   "execution_count": 29,
   "id": "c5f72fb9-9bd6-4f00-a819-c485f6fa6fd4",
   "metadata": {},
   "outputs": [
    {
     "data": {
      "text/plain": [
       "Text(0.5, 1.0, 'ellipse, area : 0.221')"
      ]
     },
     "execution_count": 29,
     "metadata": {},
     "output_type": "execute_result"
    },
    {
     "data": {
      "image/png": "[encoded data removed]",
      "text/plain": [
       "<Figure size 720x504 with 3 Axes>"
      ]
     },
     "metadata": {
      "needs_background": "light"
     },
     "output_type": "display_data"
    }
   ],
   "source": [
    "rectangle_sample, rectangle_area = draw_random_rectangle(blank, (255,0,0))\n",
    "triangle_sample, triangle_area = draw_random_triangle(blank, (0,255,0))\n",
    "ellipse_sample, ellipse_area = draw_random_ellipse(blank, (0,0,255))\n",
    "rows = 1\n",
    "columns = 3\n",
    "fig = plt.figure(figsize=(10, 7))\n",
    "\n",
    "fig.add_subplot(rows, columns, 1)\n",
    "plt.imshow(rectangle_sample)\n",
    "plt.title(f\"rectangle, area : {round(rectangle_area, 3)}\")\n",
    "\n",
    "fig.add_subplot(rows, columns, 2)\n",
    "plt.imshow(triangle_sample)\n",
    "plt.axis('off')\n",
    "plt.title(f\"triangle, area : {round(triangle_area, 3)}\")\n",
    "\n",
    "fig.add_subplot(rows, columns, 3)\n",
    "plt.imshow(ellipse_sample)\n",
    "plt.axis('off')\n",
    "plt.title(f\"ellipse, area : {round(ellipse_area, 3)}\")\n"
   ]
  },
  {
   "cell_type": "markdown",
   "id": "198ee62d-4849-4463-ba86-6db873a22b06",
   "metadata": {},
   "source": [
    "just as a small legend for me to know what the labels mean :\n",
    "\n",
    "regarding shape :\n",
    "* triangle = 0\n",
    "* ellipse = 1\n",
    "* rectangle = 2\n",
    "\n",
    "regarding colors :\n",
    "* rosu = 0\n",
    "* verde = 1\n",
    "* albastru = 2\n",
    "\n",
    "area :\n",
    "* a float smaller than 9216 (meaning 96x96)"
   ]
  },
  {
   "cell_type": "code",
   "execution_count": 90,
   "id": "fe3c33c3-20df-4e2c-b010-8219b2890109",
   "metadata": {},
   "outputs": [
    {
     "name": "stderr",
     "output_type": "stream",
     "text": [
      "100%|████████████████████████████████████████████████████████████████████████████████| 355/355 [00:12<00:00, 27.54it/s]"
     ]
    },
    {
     "name": "stdout",
     "output_type": "stream",
     "text": [
      "Generating dataset took 12.894977807998657 seconds.\n"
     ]
    },
    {
     "name": "stderr",
     "output_type": "stream",
     "text": [
      "\n"
     ]
    }
   ],
   "source": [
    "t1 = time.time()\n",
    "data = []\n",
    "sample_id = 0\n",
    "for batch in tqdm(range(355)):\n",
    "    for sample in range(9):\n",
    "        if sample == 0:\n",
    "            rectangle_sample, rectangle_area = draw_random_rectangle(blank, red)\n",
    "            data.append([f\"{sample_id}.png\", 2.0, 0.0, round(rectangle_area, 3)])\n",
    "            cv2.imwrite(f\"{DATASET_PATH}{sample_id}.png\", rectangle_sample)\n",
    "            sample_id = sample_id + 1\n",
    "        elif sample == 1:\n",
    "            rectangle_sample, rectangle_area = draw_random_rectangle(blank, green)\n",
    "            data.append([f\"{sample_id}.png\", 2.0, 1.0, round(rectangle_area, 3)])\n",
    "            cv2.imwrite(f\"{DATASET_PATH}{sample_id}.png\", rectangle_sample)\n",
    "            sample_id = sample_id + 1\n",
    "        elif sample == 2:\n",
    "            rectangle_sample, rectangle_area = draw_random_rectangle(blank, blue)\n",
    "            data.append([f\"{sample_id}.png\", 2.0, 2.0, round(rectangle_area, 3)])\n",
    "            cv2.imwrite(f\"{DATASET_PATH}{sample_id}.png\", rectangle_sample)\n",
    "            sample_id = sample_id + 1\n",
    "        elif sample == 3:\n",
    "            ellipse_sample, ellipse_area = draw_random_ellipse(blank, red)\n",
    "            data.append([f\"{sample_id}.png\", 1.0, 0.0, round(ellipse_area, 3)])\n",
    "            cv2.imwrite(f\"{DATASET_PATH}{sample_id}.png\", ellipse_sample)\n",
    "            sample_id = sample_id + 1\n",
    "        elif sample == 4:\n",
    "            ellipse_sample, ellipse_area = draw_random_ellipse(blank, green)\n",
    "            data.append([f\"{sample_id}.png\", 1.0, 1.0, round(ellipse_area, 3)])\n",
    "            cv2.imwrite(f\"{DATASET_PATH}{sample_id}.png\", ellipse_sample)\n",
    "            sample_id = sample_id + 1\n",
    "        elif sample == 5:\n",
    "            ellipse_sample, ellipse_area = draw_random_ellipse(blank, blue)\n",
    "            data.append([f\"{sample_id}.png\", 1.0, 2.0, round(ellipse_area, 3)])\n",
    "            cv2.imwrite(f\"{DATASET_PATH}{sample_id}.png\", ellipse_sample)\n",
    "            sample_id = sample_id + 1\n",
    "        elif sample == 6:\n",
    "            triangle_sample, triangle_area = draw_random_triangle(blank, red)\n",
    "            data.append([f\"{sample_id}.png\", 0.0, 0.0, round(triangle_area, 3)])\n",
    "            cv2.imwrite(f\"{DATASET_PATH}{sample_id}.png\", triangle_sample)\n",
    "            sample_id = sample_id + 1\n",
    "        elif sample == 7:\n",
    "            triangle_sample, triangle_area = draw_random_triangle(blank, green)\n",
    "            data.append([f\"{sample_id}.png\", 0.0, 1.0, round(triangle_area, 3)])\n",
    "            cv2.imwrite(f\"{DATASET_PATH}{sample_id}.png\", triangle_sample)\n",
    "            sample_id = sample_id + 1\n",
    "        elif sample == 8:\n",
    "            triangle_sample, triangle_area = draw_random_triangle(blank, blue)\n",
    "            data.append([f\"{sample_id}.png\", 0.0, 2.0, round(triangle_area, 3)])\n",
    "            cv2.imwrite(f\"{DATASET_PATH}{sample_id}.png\", triangle_sample)\n",
    "            sample_id = sample_id + 1\n",
    "t1 = time.time() - t1\n",
    "df = pd.DataFrame(data, columns = [\"image_id\", \"shape\", \"color\", \"area\"])\n",
    "df.to_csv(r\"D:\\Lucru\\github-folder\\itec-2022\\labels.csv\")\n",
    "print(f'Generating dataset took {t1} seconds.')"
   ]
  },
  {
   "cell_type": "code",
   "execution_count": 91,
   "id": "506208ca-d9cf-4852-9a0b-72491ede50af",
   "metadata": {},
   "outputs": [
    {
     "data": {
      "text/html": [
       "<div>\n",
       "<style scoped>\n",
       "    .dataframe tbody tr th:only-of-type {\n",
       "        vertical-align: middle;\n",
       "    }\n",
       "\n",
       "    .dataframe tbody tr th {\n",
       "        vertical-align: top;\n",
       "    }\n",
       "\n",
       "    .dataframe thead th {\n",
       "        text-align: right;\n",
       "    }\n",
       "</style>\n",
       "<table border=\"1\" class=\"dataframe\">\n",
       "  <thead>\n",
       "    <tr style=\"text-align: right;\">\n",
       "      <th></th>\n",
       "      <th>image_id</th>\n",
       "      <th>shape</th>\n",
       "      <th>color</th>\n",
       "      <th>area</th>\n",
       "    </tr>\n",
       "  </thead>\n",
       "  <tbody>\n",
       "    <tr>\n",
       "      <th>0</th>\n",
       "      <td>0.png</td>\n",
       "      <td>2.0</td>\n",
       "      <td>0.0</td>\n",
       "      <td>0.160</td>\n",
       "    </tr>\n",
       "    <tr>\n",
       "      <th>1</th>\n",
       "      <td>1.png</td>\n",
       "      <td>2.0</td>\n",
       "      <td>1.0</td>\n",
       "      <td>0.161</td>\n",
       "    </tr>\n",
       "    <tr>\n",
       "      <th>2</th>\n",
       "      <td>2.png</td>\n",
       "      <td>2.0</td>\n",
       "      <td>2.0</td>\n",
       "      <td>0.120</td>\n",
       "    </tr>\n",
       "    <tr>\n",
       "      <th>3</th>\n",
       "      <td>3.png</td>\n",
       "      <td>1.0</td>\n",
       "      <td>0.0</td>\n",
       "      <td>0.165</td>\n",
       "    </tr>\n",
       "    <tr>\n",
       "      <th>4</th>\n",
       "      <td>4.png</td>\n",
       "      <td>1.0</td>\n",
       "      <td>1.0</td>\n",
       "      <td>0.273</td>\n",
       "    </tr>\n",
       "  </tbody>\n",
       "</table>\n",
       "</div>"
      ],
      "text/plain": [
       "  image_id  shape  color   area\n",
       "0    0.png    2.0    0.0  0.160\n",
       "1    1.png    2.0    1.0  0.161\n",
       "2    2.png    2.0    2.0  0.120\n",
       "3    3.png    1.0    0.0  0.165\n",
       "4    4.png    1.0    1.0  0.273"
      ]
     },
     "execution_count": 91,
     "metadata": {},
     "output_type": "execute_result"
    }
   ],
   "source": [
    "df.head()"
   ]
  },
  {
   "cell_type": "code",
   "execution_count": 92,
   "id": "3cadb602-9266-42eb-974b-200f792c78dc",
   "metadata": {},
   "outputs": [
    {
     "data": {
      "text/plain": [
       "<AxesSubplot:>"
      ]
     },
     "execution_count": 92,
     "metadata": {},
     "output_type": "execute_result"
    },
    {
     "data": {
      "image/png": "[encoded data removed]",
      "text/plain": [
       "<Figure size 432x288 with 1 Axes>"
      ]
     },
     "metadata": {
      "needs_background": "light"
     },
     "output_type": "display_data"
    }
   ],
   "source": [
    "df[\"shape\"].hist(bins=20)"
   ]
  },
  {
   "cell_type": "code",
   "execution_count": 93,
   "id": "89ba3777-82a3-4227-87db-7acd39a71e3b",
   "metadata": {},
   "outputs": [
    {
     "data": {
      "text/plain": [
       "<AxesSubplot:>"
      ]
     },
     "execution_count": 93,
     "metadata": {},
     "output_type": "execute_result"
    },
    {
     "data": {
      "image/png": "[encoded data removed]",
      "text/plain": [
       "<Figure size 432x288 with 1 Axes>"
      ]
     },
     "metadata": {
      "needs_background": "light"
     },
     "output_type": "display_data"
    }
   ],
   "source": [
    "df[\"color\"].hist(bins=20)"
   ]
  },
  {
   "cell_type": "code",
   "execution_count": 94,
   "id": "75f8d387-6d2b-4d34-9774-76267dedcbb3",
   "metadata": {},
   "outputs": [
    {
     "data": {
      "text/plain": [
       "<AxesSubplot:>"
      ]
     },
     "execution_count": 94,
     "metadata": {},
     "output_type": "execute_result"
    },
    {
     "data": {
      "image/png": "[encoded data removed]",
      "text/plain": [
       "<Figure size 432x288 with 1 Axes>"
      ]
     },
     "metadata": {
      "needs_background": "light"
     },
     "output_type": "display_data"
    }
   ],
   "source": [
    "df[\"area\"].hist(bins=20)"
   ]
  },
  {
   "cell_type": "code",
   "execution_count": null,
   "id": "4c22cfaf-107e-4bad-ab06-a3a44dfe2ec1",
   "metadata": {},
   "outputs": [],
   "source": []
  }
 ],
 "metadata": {
  "kernelspec": {
   "display_name": "Python 3 (ipykernel)",
   "language": "python",
   "name": "python3"
  },
  "language_info": {
   "codemirror_mode": {
    "name": "ipython",
    "version": 3
   },
   "file_extension": ".py",
   "mimetype": "text/x-python",
   "name": "python",
   "nbconvert_exporter": "python",
   "pygments_lexer": "ipython3",
   "version": "3.8.0"
  }
 },
 "nbformat": 4,
 "nbformat_minor": 5
}
