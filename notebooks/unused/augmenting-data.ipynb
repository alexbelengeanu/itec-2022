{
 "cells": [
  {
   "cell_type": "code",
   "execution_count": 11,
   "id": "431affdd-9cdf-4741-ba05-91a1c2225a3f",
   "metadata": {},
   "outputs": [],
   "source": [
    "from imgaug import augmenters as iaa\n",
    "import matplotlib.pyplot as plt\n",
    "from tqdm import tqdm\n",
    "import imgaug as ia\n",
    "from cv2 import cv2\n",
    "import numpy as np\n",
    "import pandas as pd\n",
    "import glob\n",
    "import os"
   ]
  },
  {
   "cell_type": "code",
   "execution_count": 12,
   "id": "e6aaf9dc-24f9-4dcc-b7fc-d3be1de5d6c6",
   "metadata": {},
   "outputs": [],
   "source": [
    "DATASET_TRAIN_PATH = r\"D:/Lucru/github-folder/itec-2022/dataset/train/samples/\"\n",
    "DATASET_TEST_PATH = r\"D:/Lucru/github-folder/itec-2022/dataset/test/samples/\""
   ]
  },
  {
   "cell_type": "code",
   "execution_count": 13,
   "id": "fed6189c-9a17-42aa-86eb-fd77493796ee",
   "metadata": {},
   "outputs": [],
   "source": [
    "def load_images_from_folder(folder, start = 0, end = 3195):\n",
    "    images = []\n",
    "    files = list([pth for pth in os.listdir(folder)])\n",
    "    files.sort(key=lambda f: int(''.join(filter(str.isdigit, f))))\n",
    "    for filename in tqdm(files):\n",
    "        img = cv2.imread(os.path.join(folder,filename))\n",
    "        if img is not None:\n",
    "            img = cv2.cvtColor(img, cv2.COLOR_BGR2RGB)\n",
    "            images.append(img)\n",
    "    return np.array(images)"
   ]
  },
  {
   "cell_type": "code",
   "execution_count": 14,
   "id": "64953faa-5521-43a1-86fe-49ad748e8fc1",
   "metadata": {},
   "outputs": [],
   "source": [
    "def save_images_in_folder(folder, images, start_index = 0):\n",
    "    for i, img in enumerate(images):\n",
    "        img = cv2.cvtColor(img, cv2.COLOR_RGB2BGR)\n",
    "        cv2.imwrite(os.path.join(folder, str(start_index + i) + '.png'), img)"
   ]
  },
  {
   "cell_type": "code",
   "execution_count": 15,
   "id": "d3786394-17e0-490d-9085-d16d58dc6791",
   "metadata": {},
   "outputs": [],
   "source": [
    "def augment_images(folder, augmenter, images, start_index = 0, iterations = 10):\n",
    "    n = len(images)\n",
    "    for i in tqdm(range(iterations)):\n",
    "        augmented_images=augmenter(images=images)\n",
    "        save_images_in_folder(folder=folder, images=augmented_images, start_index = i*n)"
   ]
  },
  {
   "cell_type": "code",
   "execution_count": 16,
   "id": "020429dc-a61a-4d5b-b32b-c79a2bd2d11f",
   "metadata": {},
   "outputs": [],
   "source": [
    "ia.seed(1)\n",
    "\n",
    "seq = iaa.Sequential([\n",
    "    #iaa.imgcorruptlike.ShotNoise(severity=2),\n",
    "    #iaa.SaltAndPepper(0.1, per_channel=True),\n",
    "    iaa.Sometimes(0.5, iaa.AddElementwise((-40, 80), per_channel=True)),\n",
    "    iaa.Sometimes(0.5, iaa.AdditiveGaussianNoise(loc=0, scale=(0.0, 0.05*255), per_channel=True))\n",
    "    ], random_order=True) # apply augmenters in random order"
   ]
  },
  {
   "cell_type": "markdown",
   "id": "1be747f8-393a-4087-93a8-449351026fbf",
   "metadata": {},
   "source": [
    "## Augmenting train dataset"
   ]
  },
  {
   "cell_type": "code",
   "execution_count": 17,
   "id": "954089d0-7072-46b5-a173-02747dbbf47f",
   "metadata": {},
   "outputs": [
    {
     "name": "stderr",
     "output_type": "stream",
     "text": [
      "100%|████████████████████████████████████████████████████████████████████████████| 3204/3204 [00:00<00:00, 5037.55it/s]\n"
     ]
    }
   ],
   "source": [
    "train_imgs = load_images_from_folder(DATASET_TRAIN_PATH)"
   ]
  },
  {
   "cell_type": "code",
   "execution_count": 18,
   "id": "788efde1-e6f2-4c6d-8489-7393ae2bc548",
   "metadata": {},
   "outputs": [
    {
     "name": "stderr",
     "output_type": "stream",
     "text": [
      "100%|████████████████████████████████████████████████████████████████████████████████████| 3/3 [00:21<00:00,  7.30s/it]\n"
     ]
    }
   ],
   "source": [
    "dir_aug = r'D:/Lucru/github-folder/itec-2022/dataset-aug/train/samples/'\n",
    "augment_images(folder = dir_aug, augmenter = seq, images=train_imgs, start_index = 0, iterations = 3)"
   ]
  },
  {
   "cell_type": "code",
   "execution_count": 19,
   "id": "175750db-c26f-4b52-b545-edd656bcd912",
   "metadata": {},
   "outputs": [],
   "source": [
    "train_df = pd.read_csv(r\"D:/Lucru/github-folder/itec-2022/dataset/train/labels.csv\")\n",
    "train_df_ = pd.DataFrame()\n",
    "train_df_ = pd.concat([train_df_, train_df, train_df, train_df], ignore_index = True)"
   ]
  },
  {
   "cell_type": "code",
   "execution_count": 20,
   "id": "fe36cd2f-6ae9-4b94-9135-74d11bae949f",
   "metadata": {},
   "outputs": [],
   "source": [
    "image_ids = []\n",
    "for idx in train_df_.index:\n",
    "    image_ids.append(f'{idx}.png')"
   ]
  },
  {
   "cell_type": "code",
   "execution_count": 21,
   "id": "13186948-ca4b-4049-a08f-86b46f485ca5",
   "metadata": {},
   "outputs": [],
   "source": [
    "train_df_ = train_df_.assign(image_id = image_ids)\n",
    "train_df_.drop([\"Unnamed: 0\"], axis=1, inplace=True)"
   ]
  },
  {
   "cell_type": "code",
   "execution_count": 22,
   "id": "2e25a60e-1d44-4cdc-91b3-5652c6b59324",
   "metadata": {},
   "outputs": [],
   "source": [
    "train_df_.to_csv(r'D:/Lucru/github-folder/itec-2022/dataset-aug/train/labels.csv')"
   ]
  },
  {
   "cell_type": "markdown",
   "id": "ceeae723-649d-43a0-ac95-08d59faf3630",
   "metadata": {},
   "source": [
    "## Augmenting validation dataset"
   ]
  },
  {
   "cell_type": "code",
   "execution_count": 23,
   "id": "e11c362b-0e68-4456-9fbe-329e484ee648",
   "metadata": {},
   "outputs": [
    {
     "name": "stderr",
     "output_type": "stream",
     "text": [
      "100%|██████████████████████████████████████████████████████████████████████████████| 801/801 [00:00<00:00, 4975.14it/s]\n"
     ]
    }
   ],
   "source": [
    "test_imgs = load_images_from_folder(DATASET_TEST_PATH)"
   ]
  },
  {
   "cell_type": "code",
   "execution_count": 24,
   "id": "5876deb7-cf27-4281-9480-5fdf0439d3b6",
   "metadata": {},
   "outputs": [
    {
     "name": "stderr",
     "output_type": "stream",
     "text": [
      "100%|████████████████████████████████████████████████████████████████████████████████████| 3/3 [00:05<00:00,  1.82s/it]\n"
     ]
    }
   ],
   "source": [
    "dir_aug = r'D:/Lucru/github-folder/itec-2022/dataset-aug/test/samples/'\n",
    "augment_images(folder = dir_aug, augmenter = seq, images=test_imgs, start_index = 0, iterations = 3)"
   ]
  },
  {
   "cell_type": "code",
   "execution_count": 25,
   "id": "09e964dd-138f-4a73-aca2-d9b7159ede57",
   "metadata": {},
   "outputs": [],
   "source": [
    "test_df = pd.read_csv(r\"D:/Lucru/github-folder/itec-2022/dataset/test/labels.csv\")\n",
    "test_df_ = pd.DataFrame()\n",
    "test_df_ = pd.concat([test_df_, test_df, test_df, test_df], ignore_index = True)"
   ]
  },
  {
   "cell_type": "code",
   "execution_count": 26,
   "id": "22af26c7-ed1c-4dd8-ad7a-d72611764a24",
   "metadata": {},
   "outputs": [],
   "source": [
    "image_ids = []\n",
    "for idx in test_df_.index:\n",
    "    image_ids.append(f'{idx}.png')"
   ]
  },
  {
   "cell_type": "code",
   "execution_count": 27,
   "id": "629b7ed0-bfb2-4c36-a7d8-2df149cd766b",
   "metadata": {},
   "outputs": [],
   "source": [
    "test_df_ = test_df_.assign(image_id = image_ids)\n",
    "test_df_.drop([\"Unnamed: 0\"], axis=1, inplace=True)"
   ]
  },
  {
   "cell_type": "code",
   "execution_count": 28,
   "id": "5d812b2a-3035-4c4a-bc7e-dd423295fc45",
   "metadata": {},
   "outputs": [],
   "source": [
    "test_df_.to_csv(r'D:/Lucru/github-folder/itec-2022/dataset-aug/test/labels.csv')"
   ]
  },
  {
   "cell_type": "code",
   "execution_count": 29,
   "id": "2bce26b3-2076-46a6-9e85-f5a82446cf1b",
   "metadata": {},
   "outputs": [
    {
     "data": {
      "text/html": [
       "<div>\n",
       "<style scoped>\n",
       "    .dataframe tbody tr th:only-of-type {\n",
       "        vertical-align: middle;\n",
       "    }\n",
       "\n",
       "    .dataframe tbody tr th {\n",
       "        vertical-align: top;\n",
       "    }\n",
       "\n",
       "    .dataframe thead th {\n",
       "        text-align: right;\n",
       "    }\n",
       "</style>\n",
       "<table border=\"1\" class=\"dataframe\">\n",
       "  <thead>\n",
       "    <tr style=\"text-align: right;\">\n",
       "      <th></th>\n",
       "      <th>image_id</th>\n",
       "      <th>shape</th>\n",
       "      <th>color</th>\n",
       "      <th>area</th>\n",
       "    </tr>\n",
       "  </thead>\n",
       "  <tbody>\n",
       "    <tr>\n",
       "      <th>0</th>\n",
       "      <td>0.png</td>\n",
       "      <td>2.0</td>\n",
       "      <td>0.0</td>\n",
       "      <td>0.136</td>\n",
       "    </tr>\n",
       "    <tr>\n",
       "      <th>1</th>\n",
       "      <td>1.png</td>\n",
       "      <td>2.0</td>\n",
       "      <td>1.0</td>\n",
       "      <td>0.181</td>\n",
       "    </tr>\n",
       "    <tr>\n",
       "      <th>2</th>\n",
       "      <td>2.png</td>\n",
       "      <td>2.0</td>\n",
       "      <td>2.0</td>\n",
       "      <td>0.133</td>\n",
       "    </tr>\n",
       "    <tr>\n",
       "      <th>3</th>\n",
       "      <td>3.png</td>\n",
       "      <td>1.0</td>\n",
       "      <td>0.0</td>\n",
       "      <td>0.105</td>\n",
       "    </tr>\n",
       "    <tr>\n",
       "      <th>4</th>\n",
       "      <td>4.png</td>\n",
       "      <td>1.0</td>\n",
       "      <td>1.0</td>\n",
       "      <td>0.230</td>\n",
       "    </tr>\n",
       "    <tr>\n",
       "      <th>...</th>\n",
       "      <td>...</td>\n",
       "      <td>...</td>\n",
       "      <td>...</td>\n",
       "      <td>...</td>\n",
       "    </tr>\n",
       "    <tr>\n",
       "      <th>2398</th>\n",
       "      <td>2398.png</td>\n",
       "      <td>1.0</td>\n",
       "      <td>1.0</td>\n",
       "      <td>0.065</td>\n",
       "    </tr>\n",
       "    <tr>\n",
       "      <th>2399</th>\n",
       "      <td>2399.png</td>\n",
       "      <td>1.0</td>\n",
       "      <td>2.0</td>\n",
       "      <td>0.077</td>\n",
       "    </tr>\n",
       "    <tr>\n",
       "      <th>2400</th>\n",
       "      <td>2400.png</td>\n",
       "      <td>0.0</td>\n",
       "      <td>0.0</td>\n",
       "      <td>0.139</td>\n",
       "    </tr>\n",
       "    <tr>\n",
       "      <th>2401</th>\n",
       "      <td>2401.png</td>\n",
       "      <td>0.0</td>\n",
       "      <td>1.0</td>\n",
       "      <td>0.176</td>\n",
       "    </tr>\n",
       "    <tr>\n",
       "      <th>2402</th>\n",
       "      <td>2402.png</td>\n",
       "      <td>0.0</td>\n",
       "      <td>2.0</td>\n",
       "      <td>0.124</td>\n",
       "    </tr>\n",
       "  </tbody>\n",
       "</table>\n",
       "<p>2403 rows × 4 columns</p>\n",
       "</div>"
      ],
      "text/plain": [
       "      image_id  shape  color   area\n",
       "0        0.png    2.0    0.0  0.136\n",
       "1        1.png    2.0    1.0  0.181\n",
       "2        2.png    2.0    2.0  0.133\n",
       "3        3.png    1.0    0.0  0.105\n",
       "4        4.png    1.0    1.0  0.230\n",
       "...        ...    ...    ...    ...\n",
       "2398  2398.png    1.0    1.0  0.065\n",
       "2399  2399.png    1.0    2.0  0.077\n",
       "2400  2400.png    0.0    0.0  0.139\n",
       "2401  2401.png    0.0    1.0  0.176\n",
       "2402  2402.png    0.0    2.0  0.124\n",
       "\n",
       "[2403 rows x 4 columns]"
      ]
     },
     "execution_count": 29,
     "metadata": {},
     "output_type": "execute_result"
    }
   ],
   "source": [
    "test_df_"
   ]
  },
  {
   "cell_type": "code",
   "execution_count": 43,
   "id": "2b6b269a-ae82-4dff-b80f-3a983a5ab4f9",
   "metadata": {},
   "outputs": [],
   "source": [
    "from sklearn.preprocessing import OneHotEncoder\n",
    "\n",
    "encoder = OneHotEncoder(handle_unknown='ignore')"
   ]
  },
  {
   "cell_type": "code",
   "execution_count": 51,
   "id": "9891f9c6-f1d6-4a4e-bcf4-a8a87844a4ee",
   "metadata": {},
   "outputs": [],
   "source": [
    "shape = test_df_.drop([\"image_id\", \"color\", \"area\"], axis=1)"
   ]
  },
  {
   "cell_type": "code",
   "execution_count": 52,
   "id": "7b857983-c1da-4ea1-bd5b-27667694e998",
   "metadata": {},
   "outputs": [],
   "source": [
    "one_hot = pd.get_dummies(shape['shape'])"
   ]
  },
  {
   "cell_type": "code",
   "execution_count": 53,
   "id": "06afcc8a-e1eb-498b-b9d9-46277dc35083",
   "metadata": {},
   "outputs": [
    {
     "data": {
      "text/plain": [
       "0.0    0\n",
       "1.0    0\n",
       "2.0    1\n",
       "Name: 0, dtype: uint8"
      ]
     },
     "execution_count": 53,
     "metadata": {},
     "output_type": "execute_result"
    }
   ],
   "source": [
    "one_hot.iloc[0]"
   ]
  },
  {
   "cell_type": "code",
   "execution_count": 2,
   "id": "cf65e991-03f3-4441-87c1-99253a572426",
   "metadata": {},
   "outputs": [],
   "source": [
    "test = pd.read_csv(r\"D:/Lucru/github-folder/itec-2022/dataset-aug/train/labels.csv\")"
   ]
  },
  {
   "cell_type": "code",
   "execution_count": 3,
   "id": "327a48ee-7857-47c4-839a-f6d6424a242e",
   "metadata": {},
   "outputs": [
    {
     "data": {
      "text/html": [
       "<div>\n",
       "<style scoped>\n",
       "    .dataframe tbody tr th:only-of-type {\n",
       "        vertical-align: middle;\n",
       "    }\n",
       "\n",
       "    .dataframe tbody tr th {\n",
       "        vertical-align: top;\n",
       "    }\n",
       "\n",
       "    .dataframe thead th {\n",
       "        text-align: right;\n",
       "    }\n",
       "</style>\n",
       "<table border=\"1\" class=\"dataframe\">\n",
       "  <thead>\n",
       "    <tr style=\"text-align: right;\">\n",
       "      <th></th>\n",
       "      <th>Unnamed: 0</th>\n",
       "      <th>image_id</th>\n",
       "      <th>shape</th>\n",
       "      <th>color</th>\n",
       "      <th>area</th>\n",
       "    </tr>\n",
       "  </thead>\n",
       "  <tbody>\n",
       "    <tr>\n",
       "      <th>0</th>\n",
       "      <td>0</td>\n",
       "      <td>0.png</td>\n",
       "      <td>2.0</td>\n",
       "      <td>0.0</td>\n",
       "      <td>0.157</td>\n",
       "    </tr>\n",
       "    <tr>\n",
       "      <th>1</th>\n",
       "      <td>1</td>\n",
       "      <td>1.png</td>\n",
       "      <td>2.0</td>\n",
       "      <td>1.0</td>\n",
       "      <td>0.289</td>\n",
       "    </tr>\n",
       "    <tr>\n",
       "      <th>2</th>\n",
       "      <td>2</td>\n",
       "      <td>2.png</td>\n",
       "      <td>2.0</td>\n",
       "      <td>2.0</td>\n",
       "      <td>0.214</td>\n",
       "    </tr>\n",
       "    <tr>\n",
       "      <th>3</th>\n",
       "      <td>3</td>\n",
       "      <td>3.png</td>\n",
       "      <td>1.0</td>\n",
       "      <td>0.0</td>\n",
       "      <td>0.098</td>\n",
       "    </tr>\n",
       "    <tr>\n",
       "      <th>4</th>\n",
       "      <td>4</td>\n",
       "      <td>4.png</td>\n",
       "      <td>1.0</td>\n",
       "      <td>1.0</td>\n",
       "      <td>0.086</td>\n",
       "    </tr>\n",
       "    <tr>\n",
       "      <th>...</th>\n",
       "      <td>...</td>\n",
       "      <td>...</td>\n",
       "      <td>...</td>\n",
       "      <td>...</td>\n",
       "      <td>...</td>\n",
       "    </tr>\n",
       "    <tr>\n",
       "      <th>9607</th>\n",
       "      <td>9607</td>\n",
       "      <td>9607.png</td>\n",
       "      <td>1.0</td>\n",
       "      <td>1.0</td>\n",
       "      <td>0.131</td>\n",
       "    </tr>\n",
       "    <tr>\n",
       "      <th>9608</th>\n",
       "      <td>9608</td>\n",
       "      <td>9608.png</td>\n",
       "      <td>1.0</td>\n",
       "      <td>2.0</td>\n",
       "      <td>0.076</td>\n",
       "    </tr>\n",
       "    <tr>\n",
       "      <th>9609</th>\n",
       "      <td>9609</td>\n",
       "      <td>9609.png</td>\n",
       "      <td>0.0</td>\n",
       "      <td>0.0</td>\n",
       "      <td>0.110</td>\n",
       "    </tr>\n",
       "    <tr>\n",
       "      <th>9610</th>\n",
       "      <td>9610</td>\n",
       "      <td>9610.png</td>\n",
       "      <td>0.0</td>\n",
       "      <td>1.0</td>\n",
       "      <td>0.114</td>\n",
       "    </tr>\n",
       "    <tr>\n",
       "      <th>9611</th>\n",
       "      <td>9611</td>\n",
       "      <td>9611.png</td>\n",
       "      <td>0.0</td>\n",
       "      <td>2.0</td>\n",
       "      <td>0.122</td>\n",
       "    </tr>\n",
       "  </tbody>\n",
       "</table>\n",
       "<p>9612 rows × 5 columns</p>\n",
       "</div>"
      ],
      "text/plain": [
       "      Unnamed: 0  image_id  shape  color   area\n",
       "0              0     0.png    2.0    0.0  0.157\n",
       "1              1     1.png    2.0    1.0  0.289\n",
       "2              2     2.png    2.0    2.0  0.214\n",
       "3              3     3.png    1.0    0.0  0.098\n",
       "4              4     4.png    1.0    1.0  0.086\n",
       "...          ...       ...    ...    ...    ...\n",
       "9607        9607  9607.png    1.0    1.0  0.131\n",
       "9608        9608  9608.png    1.0    2.0  0.076\n",
       "9609        9609  9609.png    0.0    0.0  0.110\n",
       "9610        9610  9610.png    0.0    1.0  0.114\n",
       "9611        9611  9611.png    0.0    2.0  0.122\n",
       "\n",
       "[9612 rows x 5 columns]"
      ]
     },
     "execution_count": 3,
     "metadata": {},
     "output_type": "execute_result"
    }
   ],
   "source": [
    "test"
   ]
  },
  {
   "cell_type": "code",
   "execution_count": 4,
   "id": "9c0df39a-066f-477b-852f-76bbfcfec391",
   "metadata": {},
   "outputs": [],
   "source": [
    "test.drop([\"Unnamed: 0\"], axis=1, inplace=True)"
   ]
  },
  {
   "cell_type": "code",
   "execution_count": 8,
   "id": "5d47495a-6084-44cc-acda-2489c5e125e5",
   "metadata": {},
   "outputs": [
    {
     "data": {
      "text/html": [
       "<div>\n",
       "<style scoped>\n",
       "    .dataframe tbody tr th:only-of-type {\n",
       "        vertical-align: middle;\n",
       "    }\n",
       "\n",
       "    .dataframe tbody tr th {\n",
       "        vertical-align: top;\n",
       "    }\n",
       "\n",
       "    .dataframe thead th {\n",
       "        text-align: right;\n",
       "    }\n",
       "</style>\n",
       "<table border=\"1\" class=\"dataframe\">\n",
       "  <thead>\n",
       "    <tr style=\"text-align: right;\">\n",
       "      <th></th>\n",
       "      <th>image_id</th>\n",
       "      <th>shape</th>\n",
       "      <th>color</th>\n",
       "      <th>area</th>\n",
       "    </tr>\n",
       "  </thead>\n",
       "  <tbody>\n",
       "    <tr>\n",
       "      <th>0</th>\n",
       "      <td>0.png</td>\n",
       "      <td>2.0</td>\n",
       "      <td>0.0</td>\n",
       "      <td>0.157</td>\n",
       "    </tr>\n",
       "    <tr>\n",
       "      <th>1</th>\n",
       "      <td>1.png</td>\n",
       "      <td>2.0</td>\n",
       "      <td>1.0</td>\n",
       "      <td>0.289</td>\n",
       "    </tr>\n",
       "    <tr>\n",
       "      <th>2</th>\n",
       "      <td>2.png</td>\n",
       "      <td>2.0</td>\n",
       "      <td>2.0</td>\n",
       "      <td>0.214</td>\n",
       "    </tr>\n",
       "    <tr>\n",
       "      <th>3</th>\n",
       "      <td>3.png</td>\n",
       "      <td>1.0</td>\n",
       "      <td>0.0</td>\n",
       "      <td>0.098</td>\n",
       "    </tr>\n",
       "    <tr>\n",
       "      <th>4</th>\n",
       "      <td>4.png</td>\n",
       "      <td>1.0</td>\n",
       "      <td>1.0</td>\n",
       "      <td>0.086</td>\n",
       "    </tr>\n",
       "  </tbody>\n",
       "</table>\n",
       "</div>"
      ],
      "text/plain": [
       "  image_id  shape  color   area\n",
       "0    0.png    2.0    0.0  0.157\n",
       "1    1.png    2.0    1.0  0.289\n",
       "2    2.png    2.0    2.0  0.214\n",
       "3    3.png    1.0    0.0  0.098\n",
       "4    4.png    1.0    1.0  0.086"
      ]
     },
     "execution_count": 8,
     "metadata": {},
     "output_type": "execute_result"
    }
   ],
   "source": [
    "test.head()"
   ]
  },
  {
   "cell_type": "code",
   "execution_count": 10,
   "id": "0cba8e54-8e52-4ca7-b200-7e9967ea4d58",
   "metadata": {},
   "outputs": [
    {
     "data": {
      "text/html": [
       "<div>\n",
       "<style scoped>\n",
       "    .dataframe tbody tr th:only-of-type {\n",
       "        vertical-align: middle;\n",
       "    }\n",
       "\n",
       "    .dataframe tbody tr th {\n",
       "        vertical-align: top;\n",
       "    }\n",
       "\n",
       "    .dataframe thead th {\n",
       "        text-align: right;\n",
       "    }\n",
       "</style>\n",
       "<table border=\"1\" class=\"dataframe\">\n",
       "  <thead>\n",
       "    <tr style=\"text-align: right;\">\n",
       "      <th></th>\n",
       "      <th>0.png</th>\n",
       "      <th>2.0</th>\n",
       "      <th>0.0</th>\n",
       "      <th>0.157</th>\n",
       "    </tr>\n",
       "  </thead>\n",
       "  <tbody>\n",
       "    <tr>\n",
       "      <th>1</th>\n",
       "      <td>1.png</td>\n",
       "      <td>2.0</td>\n",
       "      <td>1.0</td>\n",
       "      <td>0.289</td>\n",
       "    </tr>\n",
       "    <tr>\n",
       "      <th>2</th>\n",
       "      <td>2.png</td>\n",
       "      <td>2.0</td>\n",
       "      <td>2.0</td>\n",
       "      <td>0.214</td>\n",
       "    </tr>\n",
       "    <tr>\n",
       "      <th>3</th>\n",
       "      <td>3.png</td>\n",
       "      <td>1.0</td>\n",
       "      <td>0.0</td>\n",
       "      <td>0.098</td>\n",
       "    </tr>\n",
       "    <tr>\n",
       "      <th>4</th>\n",
       "      <td>4.png</td>\n",
       "      <td>1.0</td>\n",
       "      <td>1.0</td>\n",
       "      <td>0.086</td>\n",
       "    </tr>\n",
       "    <tr>\n",
       "      <th>5</th>\n",
       "      <td>5.png</td>\n",
       "      <td>1.0</td>\n",
       "      <td>2.0</td>\n",
       "      <td>0.290</td>\n",
       "    </tr>\n",
       "    <tr>\n",
       "      <th>...</th>\n",
       "      <td>...</td>\n",
       "      <td>...</td>\n",
       "      <td>...</td>\n",
       "      <td>...</td>\n",
       "    </tr>\n",
       "    <tr>\n",
       "      <th>9607</th>\n",
       "      <td>9607.png</td>\n",
       "      <td>1.0</td>\n",
       "      <td>1.0</td>\n",
       "      <td>0.131</td>\n",
       "    </tr>\n",
       "    <tr>\n",
       "      <th>9608</th>\n",
       "      <td>9608.png</td>\n",
       "      <td>1.0</td>\n",
       "      <td>2.0</td>\n",
       "      <td>0.076</td>\n",
       "    </tr>\n",
       "    <tr>\n",
       "      <th>9609</th>\n",
       "      <td>9609.png</td>\n",
       "      <td>0.0</td>\n",
       "      <td>0.0</td>\n",
       "      <td>0.110</td>\n",
       "    </tr>\n",
       "    <tr>\n",
       "      <th>9610</th>\n",
       "      <td>9610.png</td>\n",
       "      <td>0.0</td>\n",
       "      <td>1.0</td>\n",
       "      <td>0.114</td>\n",
       "    </tr>\n",
       "    <tr>\n",
       "      <th>9611</th>\n",
       "      <td>9611.png</td>\n",
       "      <td>0.0</td>\n",
       "      <td>2.0</td>\n",
       "      <td>0.122</td>\n",
       "    </tr>\n",
       "  </tbody>\n",
       "</table>\n",
       "<p>9611 rows × 4 columns</p>\n",
       "</div>"
      ],
      "text/plain": [
       "         0.png  2.0  0.0  0.157\n",
       "1        1.png  2.0  1.0  0.289\n",
       "2        2.png  2.0  2.0  0.214\n",
       "3        3.png  1.0  0.0  0.098\n",
       "4        4.png  1.0  1.0  0.086\n",
       "5        5.png  1.0  2.0  0.290\n",
       "...        ...  ...  ...    ...\n",
       "9607  9607.png  1.0  1.0  0.131\n",
       "9608  9608.png  1.0  2.0  0.076\n",
       "9609  9609.png  0.0  0.0  0.110\n",
       "9610  9610.png  0.0  1.0  0.114\n",
       "9611  9611.png  0.0  2.0  0.122\n",
       "\n",
       "[9611 rows x 4 columns]"
      ]
     },
     "execution_count": 10,
     "metadata": {},
     "output_type": "execute_result"
    }
   ],
   "source": [
    "test.rename(columns=test.iloc[0]).drop(test.index[0])"
   ]
  },
  {
   "cell_type": "code",
   "execution_count": 1,
   "id": "300b42ea-3532-4c10-8f45-c067f0e7d72e",
   "metadata": {},
   "outputs": [
    {
     "data": {
      "text/plain": [
       "tuple"
      ]
     },
     "execution_count": 1,
     "metadata": {},
     "output_type": "execute_result"
    }
   ],
   "source": [
    "r = (255,255,255)\n",
    "type(r)"
   ]
  },
  {
   "cell_type": "code",
   "execution_count": null,
   "id": "af57038f-4c7c-4d9f-b6af-bff2e7a2fc99",
   "metadata": {},
   "outputs": [],
   "source": []
  }
 ],
 "metadata": {
  "kernelspec": {
   "display_name": "Python 3 (ipykernel)",
   "language": "python",
   "name": "python3"
  },
  "language_info": {
   "codemirror_mode": {
    "name": "ipython",
    "version": 3
   },
   "file_extension": ".py",
   "mimetype": "text/x-python",
   "name": "python",
   "nbconvert_exporter": "python",
   "pygments_lexer": "ipython3",
   "version": "3.8.0"
  }
 },
 "nbformat": 4,
 "nbformat_minor": 5
}
