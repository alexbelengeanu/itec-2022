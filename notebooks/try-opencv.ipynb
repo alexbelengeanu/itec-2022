{
 "cells": [
  {
   "cell_type": "code",
   "execution_count": 1,
   "id": "a22365b6-1686-49c7-affe-522f0f799937",
   "metadata": {},
   "outputs": [],
   "source": [
    "import matplotlib.pyplot as plt\n",
    "from PIL import Image\n",
    "import numpy as np\n",
    "import cv2"
   ]
  },
  {
   "cell_type": "code",
   "execution_count": 2,
   "id": "a2cac70d-37eb-471a-b537-841d472e74e1",
   "metadata": {},
   "outputs": [],
   "source": [
    "SOURCE_PATH = r'C:/Users/alexf/Desktop/intel_adv_ai/intel_adv_ai/noise_figures/9.png'"
   ]
  },
  {
   "cell_type": "code",
   "execution_count": 3,
   "id": "51fd865f-d08f-4004-ac3b-3aa11463da14",
   "metadata": {},
   "outputs": [
    {
     "name": "stdout",
     "output_type": "stream",
     "text": [
      "Number of Contours found = 1\n",
      "aria formei: 0.10139973958333334\n",
      "blue\n"
     ]
    }
   ],
   "source": [
    "image = Image.open(SOURCE_PATH)\n",
    "\n",
    "image_ = np.array(image.copy())\n",
    "image_ = cv2.cvtColor(image_, cv2.COLOR_RGB2BGR)\n",
    "image_[image_ < (127,127,127)] = 0\n",
    "\n",
    "# Grayscale\n",
    "gray = cv2.cvtColor(image_, cv2.COLOR_BGR2GRAY)\n",
    "\n",
    "# Find Canny edges\n",
    "edged = cv2.Canny(gray, 30, 200)\n",
    "  \n",
    "# Finding Contours\n",
    "# Use a copy of the image e.g. edged.copy()\n",
    "# since findContours alters the image\n",
    "contours, hierarchy = cv2.findContours(edged, cv2.RETR_EXTERNAL, cv2.CHAIN_APPROX_NONE)\n",
    "\n",
    "if len(contours) != 0 :\n",
    "    print(\"Number of Contours found = \" + str(len(contours)))\n",
    "    areas = [cv2.contourArea(cnt) for cnt in contours]\n",
    "    max_area_idx = np.argmax(areas)\n",
    "    x, y = contours[max_area_idx].T\n",
    "    left, top, right, bottom = (np.min(x), np.min(y), np.max(x), np.max(y))\n",
    "\n",
    "    # Draw all contours\n",
    "    # -1 signifies drawing all contours\n",
    "    aria_formei = cv2.contourArea(contours[max_area_idx])\n",
    "    print(f'aria formei: {((100 * aria_formei) / 9216) / 100}')\n",
    "    image = np.array(image)\n",
    "    cv2.drawContours(image, contours[max_area_idx], -1, (0, 255, 0), 1)\n",
    "\n",
    "    center = [int((left+right)/2), int((bottom+top)/2)]\n",
    "    r, g, b = image[center[1]][center[0]]\n",
    "    plt.imshow(image)\n",
    "    if r > 127 :\n",
    "        print(\"red\")\n",
    "    elif g > 127 :\n",
    "        print(\"green\")\n",
    "    elif b > 127 :\n",
    "        print(\"blue\")\n",
    "        \n",
    "else:\n",
    "    image = Image.open(SOURCE_PATH)\n",
    "    image = cv2.cvtColor(np.array(image), cv2.COLOR_RGB2BGR) # aici\n",
    "    image_ = np.array(image.copy())\n",
    "    image_ = cv2.cvtColor(image_, cv2.COLOR_RGB2BGR)\n",
    "    image_[image_ < (127,127,127)] = 0\n",
    "\n",
    "    # Grayscale\n",
    "    gray = cv2.cvtColor(image_, cv2.COLOR_BGR2GRAY)\n",
    "\n",
    "    # Find Canny edges\n",
    "    edged = cv2.Canny(gray, 30, 200)\n",
    "\n",
    "    # Finding Contours\n",
    "    # Use a copy of the image e.g. edged.copy()\n",
    "    # since findContours alters the image\n",
    "    contours, hierarchy = cv2.findContours(edged, cv2.RETR_EXTERNAL, cv2.CHAIN_APPROX_NONE)\n",
    "\n",
    "    print(\"Number of Contours found = \" + str(len(contours)))\n",
    "\n",
    "    areas = [cv2.contourArea(cnt) for cnt in contours]\n",
    "    max_area_idx = np.argmax(areas)\n",
    "    x, y = contours[max_area_idx].T\n",
    "    left, top, right, bottom = (np.min(x), np.min(y), np.max(x), np.max(y))\n",
    "\n",
    "    # Draw all contours\n",
    "    # -1 signifies drawing all contours\n",
    "    aria_formei = cv2.contourArea(contours[max_area_idx])\n",
    "    print(f'aria formei: {((100 * aria_formei) / 9216) / 100}')\n",
    "    image = cv2.cvtColor(np.array(image), cv2.COLOR_BGR2RGB) # aici\n",
    "    image = np.array(image)\n",
    "    cv2.drawContours(image, contours[max_area_idx], -1, (0, 255, 0), 1)\n",
    "    Image.fromarray(image).show()\n",
    "    center = [int((left+right)/2), int((bottom+top)/2)]\n",
    "    r, g, b = image[center[1]][center[0]]\n",
    "    if r > 127 :\n",
    "        print(\"red\")\n",
    "    elif g > 127 :\n",
    "        print(\"green\")\n",
    "    elif b > 127 :\n",
    "        print(\"blue\")"
   ]
  },
  {
   "cell_type": "code",
   "execution_count": null,
   "id": "a542928e-2278-4db6-9bda-052e9d2df205",
   "metadata": {},
   "outputs": [],
   "source": []
  }
 ],
 "metadata": {
  "kernelspec": {
   "display_name": "Python 3 (ipykernel)",
   "language": "python",
   "name": "python3"
  },
  "language_info": {
   "codemirror_mode": {
    "name": "ipython",
    "version": 3
   },
   "file_extension": ".py",
   "mimetype": "text/x-python",
   "name": "python",
   "nbconvert_exporter": "python",
   "pygments_lexer": "ipython3",
   "version": "3.8.0"
  }
 },
 "nbformat": 4,
 "nbformat_minor": 5
}
